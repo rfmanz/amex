{
 "cells": [
  {
   "cell_type": "code",
   "execution_count": null,
   "metadata": {},
   "outputs": [],
   "source": [
    "https://www.kaggle.com/competitions/amex-default-prediction"
   ]
  },
  {
   "attachments": {},
   "cell_type": "markdown",
   "metadata": {},
   "source": [
    "# Evaluation\n",
    "\n",
    "The evaluation metric, \n",
    ", for this competition is the mean of two measures of rank ordering: Normalized Gini Coefficient, \n",
    ", and default rate captured at 4%, \n",
    ".\n",
    "\n",
    "\n",
    "The default rate captured at 4% is the percentage of the positive labels (defaults) captured within the highest-ranked 4% of the predictions, and represents a Sensitivity/Recall statistic.\n",
    "\n",
    "For both of the sub-metrics \n",
    " and \n",
    ", the negative labels are given a weight of 20 to adjust for downsampling.\n",
    "\n",
    "This metric has a maximum value of 1.0."
   ]
  },
  {
   "attachments": {},
   "cell_type": "markdown",
   "metadata": {},
   "source": [
    "# Dataset Description\n",
    "\n",
    "The objective of this competition is to predict the probability that a customer does not pay back their credit card balance amount in the future based on their monthly customer profile. The target binary variable is calculated by observing 18 months performance window after the latest credit card statement, and if the customer does not pay due amount in 120 days after their latest statement date it is considered a default event.\n",
    "\n",
    "The dataset contains aggregated profile features for each customer at each statement date. Features are anonymized and normalized, and fall into the following general categories:\n",
    "\n",
    "D_* = Delinquency variables\n",
    "S_* = Spend variables\n",
    "P_* = Payment variables\n",
    "B_* = Balance variables\n",
    "R_* = Risk variables\n",
    "\n",
    "with the following features being categorical:\n",
    "\n",
    "['B_30', 'B_38', 'D_114', 'D_116', 'D_117', 'D_120', 'D_126', 'D_63', 'D_64', 'D_66', 'D_68']\n",
    "\n",
    "Your task is to predict, for each customer_ID, the probability of a future payment default (target = 1).\n",
    "\n",
    "Note that the negative class has been subsampled for this dataset at 5%, and thus receives a 20x weighting in the scoring metric."
   ]
  },
  {
   "cell_type": "code",
   "execution_count": null,
   "metadata": {},
   "outputs": [],
   "source": [
    "https://www.kaggle.com/competitions/amex-default-prediction/discussion/328514\n",
    "https://www.kaggle.com/competitions/amex-default-prediction/discussion/348111\n",
    "https://github.com/jxzly/Kaggle-American-Express-Default-Prediction-1st-solution"
   ]
  },
  {
   "cell_type": "code",
   "execution_count": null,
   "metadata": {},
   "outputs": [],
   "source": [
    "!pip install kaggle -q \n",
    "# !chmod 600 /home/r/.kaggle/kaggle.json\n",
    "import kaggle\n",
    "kaggle.api.authenticate()\n",
    "kaggle.api.dataset_download_files('raddar/amex-data-integer-dtypes-parquet-format', path='../input',quiet=False)"
   ]
  },
  {
   "cell_type": "code",
   "execution_count": null,
   "metadata": {},
   "outputs": [],
   "source": []
  },
  {
   "cell_type": "code",
   "execution_count": null,
   "metadata": {},
   "outputs": [],
   "source": []
  }
 ],
 "metadata": {
  "language_info": {
   "name": "python"
  },
  "orig_nbformat": 4
 },
 "nbformat": 4,
 "nbformat_minor": 2
}
